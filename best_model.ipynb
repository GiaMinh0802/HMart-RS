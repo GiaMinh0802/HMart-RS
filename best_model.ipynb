{
 "cells": [
  {
   "cell_type": "code",
   "execution_count": 23,
   "metadata": {},
   "outputs": [],
   "source": [
    "from pyspark.sql import SparkSession\n",
    "from surprise import Reader\n",
    "from surprise import Dataset"
   ]
  },
  {
   "cell_type": "code",
   "execution_count": 24,
   "metadata": {},
   "outputs": [],
   "source": [
    "spark = SparkSession.builder.appName(\"Best Model for Rec\").getOrCreate()"
   ]
  },
  {
   "cell_type": "code",
   "execution_count": 25,
   "metadata": {},
   "outputs": [],
   "source": [
    "df_product = spark.read.json('data/product.json')\n",
    "product_rating = spark.read.json('data/rating.json')"
   ]
  },
  {
   "cell_type": "code",
   "execution_count": 26,
   "metadata": {},
   "outputs": [],
   "source": [
    "merged_df = product_rating.join(df_product, 'productId', 'inner')"
   ]
  },
  {
   "cell_type": "code",
   "execution_count": 27,
   "metadata": {},
   "outputs": [],
   "source": [
    "df_train, df_test = merged_df.randomSplit([0.7, 0.3], seed = 96)\n",
    "df_train_pandas = df_train.toPandas()\n",
    "df_test_pandas = df_test.toPandas()"
   ]
  },
  {
   "cell_type": "code",
   "execution_count": 28,
   "metadata": {},
   "outputs": [],
   "source": [
    "reader = Reader(rating_scale=(1, 5))"
   ]
  },
  {
   "cell_type": "code",
   "execution_count": 29,
   "metadata": {},
   "outputs": [],
   "source": [
    "data_train = Dataset.load_from_df(df_train_pandas[['userId', 'productId', 'rating']], reader)\n",
    "data_test = Dataset.load_from_df(df_test_pandas[['userId', 'productId', 'rating']], reader)"
   ]
  },
  {
   "cell_type": "code",
   "execution_count": 30,
   "metadata": {},
   "outputs": [],
   "source": [
    "trainset = data_train.build_full_trainset()\n",
    "testset = data_test.build_full_trainset().build_testset()"
   ]
  },
  {
   "cell_type": "code",
   "execution_count": 31,
   "metadata": {},
   "outputs": [],
   "source": [
    "from surprise.dump import load, dump"
   ]
  },
  {
   "cell_type": "code",
   "execution_count": 32,
   "metadata": {},
   "outputs": [],
   "source": [
    "dump_path = 'model/knn_model.pkl'\n",
    "knn_algo = load(dump_path)[1]"
   ]
  },
  {
   "cell_type": "code",
   "execution_count": 33,
   "metadata": {},
   "outputs": [],
   "source": [
    "dump_path = 'model/svd_model.pkl'\n",
    "svd_algo = load(dump_path)[1]"
   ]
  },
  {
   "cell_type": "code",
   "execution_count": 34,
   "metadata": {},
   "outputs": [],
   "source": [
    "dump_path = 'model/svdpp_model.pkl'\n",
    "svdpp_algo = load(dump_path)[1]"
   ]
  },
  {
   "cell_type": "code",
   "execution_count": 35,
   "metadata": {},
   "outputs": [],
   "source": [
    "dump_path = 'model/nmf_model.pkl'\n",
    "nmf_algo = load(dump_path)[1]"
   ]
  },
  {
   "cell_type": "code",
   "execution_count": 36,
   "metadata": {},
   "outputs": [],
   "source": [
    "dump_path = 'model/clustering_model.pkl'\n",
    "clustering_algo = load(dump_path)[1]"
   ]
  },
  {
   "cell_type": "code",
   "execution_count": 37,
   "metadata": {},
   "outputs": [],
   "source": [
    "# Make predictions using the knn model\n",
    "knn_predictions = knn_algo.test(testset)"
   ]
  },
  {
   "cell_type": "code",
   "execution_count": 38,
   "metadata": {},
   "outputs": [],
   "source": [
    "# Make predictions using the svd model\n",
    "svd_predictions = svd_algo.test(testset)"
   ]
  },
  {
   "cell_type": "code",
   "execution_count": 39,
   "metadata": {},
   "outputs": [],
   "source": [
    "# Make predictions using the svdpp model\n",
    "svdpp_predictions = svdpp_algo.test(testset)"
   ]
  },
  {
   "cell_type": "code",
   "execution_count": 40,
   "metadata": {},
   "outputs": [],
   "source": [
    "# Make predictions using the nmf model\n",
    "nmf_predictions = nmf_algo.test(testset)"
   ]
  },
  {
   "cell_type": "code",
   "execution_count": 41,
   "metadata": {},
   "outputs": [],
   "source": [
    "# Make predictions using the clustering model\n",
    "clustering_predictions = clustering_algo.test(testset)"
   ]
  },
  {
   "cell_type": "code",
   "execution_count": 42,
   "metadata": {},
   "outputs": [],
   "source": [
    "from surprise import accuracy"
   ]
  },
  {
   "cell_type": "code",
   "execution_count": 43,
   "metadata": {},
   "outputs": [
    {
     "name": "stdout",
     "output_type": "stream",
     "text": [
      "KNN\n",
      "RMSE: 1.4357\n",
      "SVD\n",
      "RMSE: 1.4203\n",
      "SVDpp\n",
      "RMSE: 1.4207\n",
      "NMF\n",
      "RMSE: 1.4613\n",
      "Clustering\n",
      "RMSE: 1.4420\n"
     ]
    }
   ],
   "source": [
    "# Calculate RMSE (Root Mean Squared Error)\n",
    "print('KNN')\n",
    "knn_rmse = accuracy.rmse(knn_predictions)\n",
    "print('SVD')\n",
    "svd_rmse = accuracy.rmse(svd_predictions)\n",
    "print('SVDpp')\n",
    "svdpp_rmse = accuracy.rmse(svdpp_predictions)\n",
    "print('NMF')\n",
    "nmf_rmse = accuracy.rmse(nmf_predictions)\n",
    "print('Clustering')\n",
    "clustering_rmse = accuracy.rmse(clustering_predictions)"
   ]
  },
  {
   "cell_type": "code",
   "execution_count": 44,
   "metadata": {},
   "outputs": [],
   "source": [
    "dump_path_save = 'model/best_model.pkl'\n",
    "dump(dump_path_save, algo=svdpp_predictions)"
   ]
  }
 ],
 "metadata": {
  "kernelspec": {
   "display_name": "base",
   "language": "python",
   "name": "python3"
  },
  "language_info": {
   "codemirror_mode": {
    "name": "ipython",
    "version": 3
   },
   "file_extension": ".py",
   "mimetype": "text/x-python",
   "name": "python",
   "nbconvert_exporter": "python",
   "pygments_lexer": "ipython3",
   "version": "3.11.4"
  }
 },
 "nbformat": 4,
 "nbformat_minor": 2
}
